{
 "cells": [
  {
   "cell_type": "code",
   "execution_count": 2,
   "id": "ba6743c9",
   "metadata": {},
   "outputs": [],
   "source": [
    "from utils import util"
   ]
  },
  {
   "cell_type": "code",
   "execution_count": 3,
   "id": "733b3469",
   "metadata": {},
   "outputs": [],
   "source": [
    "section = util.LEFT_EYEBROW_IDX"
   ]
  },
  {
   "cell_type": "code",
   "execution_count": 4,
   "id": "2ceded7b",
   "metadata": {},
   "outputs": [
    {
     "data": {
      "text/plain": [
       "[285, 295, 296, 336]"
      ]
     },
     "execution_count": 4,
     "metadata": {},
     "output_type": "execute_result"
    }
   ],
   "source": [
    "util.reorder_ring_in_order(section)"
   ]
  },
  {
   "cell_type": "code",
   "execution_count": 5,
   "id": "ac395140",
   "metadata": {},
   "outputs": [],
   "source": [
    "import cv2"
   ]
  },
  {
   "cell_type": "code",
   "execution_count": 6,
   "id": "5c9368e8",
   "metadata": {},
   "outputs": [],
   "source": [
    "import torch"
   ]
  },
  {
   "cell_type": "code",
   "execution_count": 7,
   "id": "2022c289",
   "metadata": {},
   "outputs": [],
   "source": [
    "import os\n",
    "import numpy as np"
   ]
  },
  {
   "cell_type": "code",
   "execution_count": 8,
   "id": "4ae020d1",
   "metadata": {},
   "outputs": [],
   "source": [
    "mesh = torch.load(os.path.join('mesh_dict_reference.pt'))"
   ]
  },
  {
   "cell_type": "code",
   "execution_count": 9,
   "id": "0c3f4126",
   "metadata": {},
   "outputs": [],
   "source": [
    "t = util.landmarkdict_to_mesh_tensor(mesh)"
   ]
  },
  {
   "cell_type": "code",
   "execution_count": 10,
   "id": "9a4e4432",
   "metadata": {},
   "outputs": [],
   "source": [
    "t = t.numpy().astype('int32')"
   ]
  },
  {
   "cell_type": "code",
   "execution_count": 11,
   "id": "f491d8fd",
   "metadata": {},
   "outputs": [],
   "source": [
    "t = t[:, :2]"
   ]
  },
  {
   "cell_type": "code",
   "execution_count": 41,
   "id": "13dda839",
   "metadata": {},
   "outputs": [],
   "source": [
    "section = t[util.LEFT_EYEBROW_IDX]"
   ]
  },
  {
   "cell_type": "code",
   "execution_count": 48,
   "id": "17dd5de9",
   "metadata": {},
   "outputs": [],
   "source": [
    "canvas = np.zeros((256, 256, 3), np.uint8)"
   ]
  },
  {
   "cell_type": "code",
   "execution_count": 14,
   "id": "8d18ac5d",
   "metadata": {},
   "outputs": [],
   "source": [
    "_ = cv2.polylines(canvas, [section], True, (255, 255, 255), 1)"
   ]
  },
  {
   "cell_type": "code",
   "execution_count": null,
   "id": "072e38ae",
   "metadata": {},
   "outputs": [],
   "source": [
    "cv2.imshow('test', canvas)"
   ]
  },
  {
   "cell_type": "code",
   "execution_count": 1,
   "id": "4ddc8138",
   "metadata": {},
   "outputs": [
    {
     "ename": "NameError",
     "evalue": "name 'torch' is not defined",
     "output_type": "error",
     "traceback": [
      "\u001b[0;31m---------------------------------------------------------------------------\u001b[0m",
      "\u001b[0;31mNameError\u001b[0m                                 Traceback (most recent call last)",
      "\u001b[0;32m/tmp/ipykernel_39927/2213310557.py\u001b[0m in \u001b[0;36m<module>\u001b[0;34m\u001b[0m\n\u001b[0;32m----> 1\u001b[0;31m \u001b[0mt\u001b[0m \u001b[0;34m=\u001b[0m \u001b[0mtorch\u001b[0m\u001b[0;34m.\u001b[0m\u001b[0mTensor\u001b[0m\u001b[0;34m(\u001b[0m\u001b[0;36m3\u001b[0m\u001b[0;34m)\u001b[0m\u001b[0;34m\u001b[0m\u001b[0m\n\u001b[0m",
      "\u001b[0;31mNameError\u001b[0m: name 'torch' is not defined"
     ]
    }
   ],
   "source": [
    "t = torch.Tensor(3)"
   ]
  },
  {
   "cell_type": "code",
   "execution_count": 50,
   "id": "42d9a2c7",
   "metadata": {},
   "outputs": [
    {
     "data": {
      "text/plain": [
       "True"
      ]
     },
     "execution_count": 50,
     "metadata": {},
     "output_type": "execute_result"
    }
   ],
   "source": [
    "cv2.imwrite('test.png', canvas)"
   ]
  },
  {
   "cell_type": "code",
   "execution_count": 17,
   "id": "17c05a82",
   "metadata": {},
   "outputs": [],
   "source": [
    "_ = cv2.fillPoly(canvas, [section], (255, 255, 255))"
   ]
  },
  {
   "cell_type": "code",
   "execution_count": 19,
   "id": "e3ad016f",
   "metadata": {},
   "outputs": [
    {
     "data": {
      "text/plain": [
       "array([[177, 102],\n",
       "       [155, 105],\n",
       "       [156, 100],\n",
       "       [182, 106],\n",
       "       [168,  99],\n",
       "       [141, 103],\n",
       "       [179, 109],\n",
       "       [166, 104],\n",
       "       [174, 105],\n",
       "       [139, 110]], dtype=int32)"
      ]
     },
     "execution_count": 19,
     "metadata": {},
     "output_type": "execute_result"
    }
   ],
   "source": [
    "section"
   ]
  },
  {
   "cell_type": "code",
   "execution_count": 21,
   "id": "f1894763",
   "metadata": {},
   "outputs": [
    {
     "data": {
      "text/plain": [
       "[293, 295, 296, 300, 334, 336, 276, 282, 283, 285]"
      ]
     },
     "execution_count": 21,
     "metadata": {},
     "output_type": "execute_result"
    }
   ],
   "source": [
    "util.LEFT_EYEBROW_IDX"
   ]
  },
  {
   "cell_type": "code",
   "execution_count": 49,
   "id": "e8601bc4",
   "metadata": {},
   "outputs": [],
   "source": [
    "for i, pt in enumerate(section):\n",
    "    label = util.LEFT_EYEBROW_IDX[i]\n",
    "    cv2.putText(canvas, f'{label}', pt, cv2.FONT_HERSHEY_SIMPLEX, 0.4, (255, 255, 255))"
   ]
  },
  {
   "cell_type": "code",
   "execution_count": 42,
   "id": "b0989743",
   "metadata": {},
   "outputs": [],
   "source": [
    "section = (10 * (section - section.mean(axis=0)[None]) + [[128, 128]]).astype(np.int32)"
   ]
  },
  {
   "cell_type": "code",
   "execution_count": 43,
   "id": "6e66d863",
   "metadata": {
    "scrolled": true
   },
   "outputs": [
    {
     "data": {
      "text/plain": [
       "array([[ 261,  105],\n",
       "       [  41,  135],\n",
       "       [  51,   85],\n",
       "       [ 311,  145],\n",
       "       [ 171,   75],\n",
       "       [ -98,  115],\n",
       "       [ 281,  175],\n",
       "       [ 151,  125],\n",
       "       [ 231,  135],\n",
       "       [-118,  185]], dtype=int32)"
      ]
     },
     "execution_count": 43,
     "metadata": {},
     "output_type": "execute_result"
    }
   ],
   "source": [
    "section"
   ]
  },
  {
   "cell_type": "code",
   "execution_count": 68,
   "id": "fd999f32",
   "metadata": {},
   "outputs": [],
   "source": [
    "LEFT_EYEBROW_SECTION = [336, 285, 295, 282, 283, 276, 300, 293, 334, 296]\n",
    "RIGHT_EYEBROW_SECTION = [70, 46, 53, 52, 65, 55, 107, 66, 105, 63]"
   ]
  },
  {
   "cell_type": "code",
   "execution_count": 67,
   "id": "3987b66d",
   "metadata": {},
   "outputs": [
    {
     "name": "stdout",
     "output_type": "stream",
     "text": [
      "[65, 66, 70, 105, 107, 46, 52, 53, 55, 63]\n"
     ]
    }
   ],
   "source": [
    "SECTION = util.RIGHT_EYEBROW_IDX\n",
    "print(SECTION)"
   ]
  },
  {
   "cell_type": "code",
   "execution_count": 63,
   "id": "27661389",
   "metadata": {},
   "outputs": [],
   "source": [
    "section = t[SECTION]\n",
    "section = (2 * (section - section.mean(axis=0)[None]) + [[128, 128]]).astype(np.int32)"
   ]
  },
  {
   "cell_type": "code",
   "execution_count": 64,
   "id": "bcee1a60",
   "metadata": {},
   "outputs": [
    {
     "data": {
      "text/plain": [
       "True"
      ]
     },
     "execution_count": 64,
     "metadata": {},
     "output_type": "execute_result"
    }
   ],
   "source": [
    "canvas = np.zeros((256, 256, 3), np.uint8)\n",
    "for i, pt in enumerate(section):\n",
    "    label = SECTION[i]\n",
    "    cv2.putText(canvas, f'{label}', pt, cv2.FONT_HERSHEY_SIMPLEX, 0.4, (255, 255, 255))\n",
    "cv2.imwrite('test.png', canvas)"
   ]
  },
  {
   "cell_type": "code",
   "execution_count": 71,
   "id": "dbaeb56a",
   "metadata": {},
   "outputs": [
    {
     "data": {
      "text/plain": [
       "True"
      ]
     },
     "execution_count": 71,
     "metadata": {},
     "output_type": "execute_result"
    }
   ],
   "source": [
    "canvas = np.zeros((256, 256, 3), np.uint8)\n",
    "_ = cv2.polylines(canvas, [t[util.CHIN_IDX]], False, (255, 255, 255), 1)\n",
    "cv2.imwrite('test.png', canvas)"
   ]
  },
  {
   "cell_type": "code",
   "execution_count": 65,
   "id": "d258d868",
   "metadata": {},
   "outputs": [
    {
     "data": {
      "text/plain": [
       "array([[146, 128],\n",
       "       [144, 118],\n",
       "       [ 90, 134],\n",
       "       [120, 118],\n",
       "       [172, 122],\n",
       "       [ 96, 140],\n",
       "       [124, 128],\n",
       "       [108, 132],\n",
       "       [176, 136],\n",
       "       [100, 124]], dtype=int32)"
      ]
     },
     "execution_count": 65,
     "metadata": {},
     "output_type": "execute_result"
    }
   ],
   "source": [
    "SECTIONS"
   ]
  },
  {
   "cell_type": "code",
   "execution_count": 73,
   "id": "e0a42c9d",
   "metadata": {},
   "outputs": [],
   "source": [
    "import importlib"
   ]
  },
  {
   "cell_type": "code",
   "execution_count": 127,
   "id": "62418457",
   "metadata": {},
   "outputs": [
    {
     "data": {
      "text/plain": [
       "<module 'utils.util' from '/home/server25/minyeong_workspace/BFv2v/utils/util.py'>"
      ]
     },
     "execution_count": 127,
     "metadata": {},
     "output_type": "execute_result"
    }
   ],
   "source": [
    "importlib.reload(utils.util)"
   ]
  },
  {
   "cell_type": "code",
   "execution_count": 77,
   "id": "a338818c",
   "metadata": {},
   "outputs": [],
   "source": [
    "import utils"
   ]
  },
  {
   "cell_type": "code",
   "execution_count": 128,
   "id": "46bc6cbc",
   "metadata": {},
   "outputs": [],
   "source": [
    "import utils.util as util"
   ]
  },
  {
   "cell_type": "code",
   "execution_count": 103,
   "id": "c688e026",
   "metadata": {},
   "outputs": [
    {
     "data": {
      "text/plain": [
       "<function utils.util.draw_section(sections, shape, section_config=[[384, 385, 386, 387, 388, 390, 263, 362, 398, 466, 373, 374, 249, 380, 381, 382], [160, 33, 161, 163, 133, 7, 173, 144, 145, 246, 153, 154, 155, 157, 158, 159], [181, 84, 17, 314, 405, 321, 375, 291, 409, 270, 269, 267, 0, 37, 39, 40, 185, 61, 146, 91], [178, 87, 14, 317, 402, 318, 324, 308, 415, 310, 311, 312, 13, 82, 81, 80, 191, 78, 95, 88], [336, 285, 295, 282, 283, 276, 300, 293, 334, 296], [70, 46, 53, 52, 65, 55, 107, 66, 105, 63], ([379, 378, 400, 377, 152, 148, 176, 149, 150, 136], False)], groups=[0, 1, 2, 2, 0, 1, 2], split=False)>"
      ]
     },
     "execution_count": 103,
     "metadata": {},
     "output_type": "execute_result"
    }
   ],
   "source": [
    "util.draw_section"
   ]
  },
  {
   "cell_type": "code",
   "execution_count": 122,
   "id": "8250c963",
   "metadata": {},
   "outputs": [],
   "source": [
    "ROI_IDX = util.LEFT_EYE_IDX + util.LEFT_EYEBROW_IDX + util.RIGHT_EYE_IDX + util.RIGHT_EYEBROW_IDX + util.OUT_LIP_IDX + util.IN_LIP_IDX + util.CHIN_IDX "
   ]
  },
  {
   "cell_type": "code",
   "execution_count": 123,
   "id": "7e289230",
   "metadata": {},
   "outputs": [],
   "source": [
    "roi = t[ROI_IDX]"
   ]
  },
  {
   "cell_type": "code",
   "execution_count": 129,
   "id": "9cd7beb9",
   "metadata": {},
   "outputs": [],
   "source": [
    "mask = util.draw_section(roi, (256, 256, 3), split=True)"
   ]
  },
  {
   "cell_type": "code",
   "execution_count": 106,
   "id": "122404b5",
   "metadata": {},
   "outputs": [
    {
     "data": {
      "text/plain": [
       "102"
      ]
     },
     "execution_count": 106,
     "metadata": {},
     "output_type": "execute_result"
    }
   ],
   "source": [
    "len(ROI_IDX)"
   ]
  },
  {
   "cell_type": "code",
   "execution_count": 108,
   "id": "a0764f3a",
   "metadata": {},
   "outputs": [],
   "source": [
    "section_config=[[384, 385, 386, 387, 388, 390, 263, 362, 398, 466, 373, 374, 249, 380, 381, 382], [160, 33, 161, 163, 133, 7, 173, 144, 145, 246, 153, 154, 155, 157, 158, 159], [181, 84, 17, 314, 405, 321, 375, 291, 409, 270, 269, 267, 0, 37, 39, 40, 185, 61, 146, 91], [178, 87, 14, 317, 402, 318, 324, 308, 415, 310, 311, 312, 13, 82, 81, 80, 191, 78, 95, 88], [336, 285, 295, 282, 283, 276, 300, 293, 334, 296], [70, 46, 53, 52, 65, 55, 107, 66, 105, 63], ([379, 378, 400, 377, 152, 148, 176, 149, 150, 136], False)]"
   ]
  },
  {
   "cell_type": "code",
   "execution_count": 130,
   "id": "1a93f403",
   "metadata": {},
   "outputs": [],
   "source": [
    "_roi = []\n",
    "for v in section_config:\n",
    "    if type(v) == tuple:\n",
    "        v = v[0]\n",
    "    _roi.extend(v)"
   ]
  },
  {
   "cell_type": "code",
   "execution_count": 113,
   "id": "85f0837b",
   "metadata": {},
   "outputs": [
    {
     "data": {
      "text/plain": [
       "102"
      ]
     },
     "execution_count": 113,
     "metadata": {},
     "output_type": "execute_result"
    }
   ],
   "source": [
    "len(_roi)"
   ]
  },
  {
   "cell_type": "code",
   "execution_count": 117,
   "id": "8f70dc07",
   "metadata": {},
   "outputs": [
    {
     "data": {
      "text/plain": [
       "256"
      ]
     },
     "execution_count": 117,
     "metadata": {},
     "output_type": "execute_result"
    }
   ],
   "source": [
    "len(mask)"
   ]
  },
  {
   "cell_type": "code",
   "execution_count": 131,
   "id": "dd48233d",
   "metadata": {},
   "outputs": [],
   "source": [
    "for i, mask_section in enumerate(mask):\n",
    "    cv2.imwrite(f'test_section_{i}.png', mask_section)"
   ]
  },
  {
   "cell_type": "code",
   "execution_count": null,
   "id": "9ae4379f",
   "metadata": {},
   "outputs": [],
   "source": []
  }
 ],
 "metadata": {
  "kernelspec": {
   "display_name": "Python 3 (ipykernel)",
   "language": "python",
   "name": "python3"
  },
  "language_info": {
   "codemirror_mode": {
    "name": "ipython",
    "version": 3
   },
   "file_extension": ".py",
   "mimetype": "text/x-python",
   "name": "python",
   "nbconvert_exporter": "python",
   "pygments_lexer": "ipython3",
   "version": "3.7.0"
  }
 },
 "nbformat": 4,
 "nbformat_minor": 5
}
