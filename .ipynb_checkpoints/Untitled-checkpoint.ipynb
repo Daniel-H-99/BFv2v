{
 "cells": [
  {
   "cell_type": "code",
   "execution_count": 2,
   "id": "c4458454",
   "metadata": {},
   "outputs": [],
   "source": [
    "from utils import util"
   ]
  },
  {
   "cell_type": "code",
   "execution_count": 3,
   "id": "fa10a7c9",
   "metadata": {},
   "outputs": [],
   "source": [
    "section = util.LEFT_EYEBROW_IDX"
   ]
  },
  {
   "cell_type": "code",
   "execution_count": 4,
   "id": "343abaed",
   "metadata": {},
   "outputs": [
    {
     "data": {
      "text/plain": [
       "[285, 295, 296, 336]"
      ]
     },
     "execution_count": 4,
     "metadata": {},
     "output_type": "execute_result"
    }
   ],
   "source": [
    "util.reorder_ring_in_order(section)"
   ]
  },
  {
   "cell_type": "code",
   "execution_count": 5,
   "id": "db5fd744",
   "metadata": {},
   "outputs": [],
   "source": [
    "import cv2"
   ]
  },
  {
   "cell_type": "code",
   "execution_count": 6,
   "id": "eb74bbd9",
   "metadata": {},
   "outputs": [],
   "source": [
    "import torch"
   ]
  },
  {
   "cell_type": "code",
   "execution_count": 7,
   "id": "eb154660",
   "metadata": {},
   "outputs": [],
   "source": [
    "import os\n",
    "import numpy as np"
   ]
  },
  {
   "cell_type": "code",
   "execution_count": 8,
   "id": "c76f2da1",
   "metadata": {},
   "outputs": [],
   "source": [
    "mesh = torch.load(os.path.join('mesh_dict_reference.pt'))"
   ]
  },
  {
   "cell_type": "code",
   "execution_count": 9,
   "id": "0432b77f",
   "metadata": {},
   "outputs": [],
   "source": [
    "t = util.landmarkdict_to_mesh_tensor(mesh)"
   ]
  },
  {
   "cell_type": "code",
   "execution_count": 10,
   "id": "5726bc6e",
   "metadata": {},
   "outputs": [],
   "source": [
    "t = t.numpy().astype('int32')"
   ]
  },
  {
   "cell_type": "code",
   "execution_count": 11,
   "id": "10085d70",
   "metadata": {},
   "outputs": [],
   "source": [
    "t = t[:, :2]"
   ]
  },
  {
   "cell_type": "code",
   "execution_count": 41,
   "id": "8bf651bf",
   "metadata": {},
   "outputs": [],
   "source": [
    "section = t[util.LEFT_EYEBROW_IDX]"
   ]
  },
  {
   "cell_type": "code",
   "execution_count": 48,
   "id": "892c720e",
   "metadata": {},
   "outputs": [],
   "source": [
    "canvas = np.zeros((256, 256, 3), np.uint8)"
   ]
  },
  {
   "cell_type": "code",
   "execution_count": 14,
   "id": "a81ec327",
   "metadata": {},
   "outputs": [],
   "source": [
    "_ = cv2.polylines(canvas, [section], True, (255, 255, 255), 1)"
   ]
  },
  {
   "cell_type": "code",
   "execution_count": null,
   "id": "50ffd21d",
   "metadata": {},
   "outputs": [],
   "source": [
    "cv2.imshow('test', canvas)"
   ]
  },
  {
   "cell_type": "code",
   "execution_count": 1,
   "id": "a7e36125",
   "metadata": {},
   "outputs": [
    {
     "ename": "NameError",
     "evalue": "name 'torch' is not defined",
     "output_type": "error",
     "traceback": [
      "\u001b[0;31m---------------------------------------------------------------------------\u001b[0m",
      "\u001b[0;31mNameError\u001b[0m                                 Traceback (most recent call last)",
      "\u001b[0;32m/tmp/ipykernel_39927/2213310557.py\u001b[0m in \u001b[0;36m<module>\u001b[0;34m\u001b[0m\n\u001b[0;32m----> 1\u001b[0;31m \u001b[0mt\u001b[0m \u001b[0;34m=\u001b[0m \u001b[0mtorch\u001b[0m\u001b[0;34m.\u001b[0m\u001b[0mTensor\u001b[0m\u001b[0;34m(\u001b[0m\u001b[0;36m3\u001b[0m\u001b[0;34m)\u001b[0m\u001b[0;34m\u001b[0m\u001b[0m\n\u001b[0m",
      "\u001b[0;31mNameError\u001b[0m: name 'torch' is not defined"
     ]
    }
   ],
   "source": [
    "t = torch.Tensor(3)"
   ]
  },
  {
   "cell_type": "code",
   "execution_count": 50,
   "id": "8295fd2d",
   "metadata": {},
   "outputs": [
    {
     "data": {
      "text/plain": [
       "True"
      ]
     },
     "execution_count": 50,
     "metadata": {},
     "output_type": "execute_result"
    }
   ],
   "source": [
    "cv2.imwrite('test.png', canvas)"
   ]
  },
  {
   "cell_type": "code",
   "execution_count": 17,
   "id": "28795373",
   "metadata": {},
   "outputs": [],
   "source": [
    "_ = cv2.fillPoly(canvas, [section], (255, 255, 255))"
   ]
  },
  {
   "cell_type": "code",
   "execution_count": 19,
   "id": "5c668f38",
   "metadata": {},
   "outputs": [
    {
     "data": {
      "text/plain": [
       "array([[177, 102],\n",
       "       [155, 105],\n",
       "       [156, 100],\n",
       "       [182, 106],\n",
       "       [168,  99],\n",
       "       [141, 103],\n",
       "       [179, 109],\n",
       "       [166, 104],\n",
       "       [174, 105],\n",
       "       [139, 110]], dtype=int32)"
      ]
     },
     "execution_count": 19,
     "metadata": {},
     "output_type": "execute_result"
    }
   ],
   "source": [
    "section"
   ]
  },
  {
   "cell_type": "code",
   "execution_count": 21,
   "id": "6e4b491c",
   "metadata": {},
   "outputs": [
    {
     "data": {
      "text/plain": [
       "[293, 295, 296, 300, 334, 336, 276, 282, 283, 285]"
      ]
     },
     "execution_count": 21,
     "metadata": {},
     "output_type": "execute_result"
    }
   ],
   "source": [
    "util.LEFT_EYEBROW_IDX"
   ]
  },
  {
   "cell_type": "code",
   "execution_count": 49,
   "id": "4f4d37d1",
   "metadata": {},
   "outputs": [],
   "source": [
    "for i, pt in enumerate(section):\n",
    "    label = util.LEFT_EYEBROW_IDX[i]\n",
    "    cv2.putText(canvas, f'{label}', pt, cv2.FONT_HERSHEY_SIMPLEX, 0.4, (255, 255, 255))"
   ]
  },
  {
   "cell_type": "code",
   "execution_count": 42,
   "id": "00f6b23f",
   "metadata": {},
   "outputs": [],
   "source": [
    "section = (10 * (section - section.mean(axis=0)[None]) + [[128, 128]]).astype(np.int32)"
   ]
  },
  {
   "cell_type": "code",
   "execution_count": 43,
   "id": "fe545b3e",
   "metadata": {
    "scrolled": true
   },
   "outputs": [
    {
     "data": {
      "text/plain": [
       "array([[ 261,  105],\n",
       "       [  41,  135],\n",
       "       [  51,   85],\n",
       "       [ 311,  145],\n",
       "       [ 171,   75],\n",
       "       [ -98,  115],\n",
       "       [ 281,  175],\n",
       "       [ 151,  125],\n",
       "       [ 231,  135],\n",
       "       [-118,  185]], dtype=int32)"
      ]
     },
     "execution_count": 43,
     "metadata": {},
     "output_type": "execute_result"
    }
   ],
   "source": [
    "section"
   ]
  },
  {
   "cell_type": "code",
   "execution_count": 68,
   "id": "5e7e3bec",
   "metadata": {},
   "outputs": [],
   "source": [
    "LEFT_EYEBROW_SECTION = [336, 285, 295, 282, 283, 276, 300, 293, 334, 296]\n",
    "RIGHT_EYEBROW_SECTION = [70, 46, 53, 52, 65, 55, 107, 66, 105, 63]"
   ]
  },
  {
   "cell_type": "code",
   "execution_count": 67,
   "id": "650b49a1",
   "metadata": {},
   "outputs": [
    {
     "name": "stdout",
     "output_type": "stream",
     "text": [
      "[65, 66, 70, 105, 107, 46, 52, 53, 55, 63]\n"
     ]
    }
   ],
   "source": [
    "SECTION = util.RIGHT_EYEBROW_IDX\n",
    "print(SECTION)"
   ]
  },
  {
   "cell_type": "code",
   "execution_count": 63,
   "id": "3152543b",
   "metadata": {},
   "outputs": [],
   "source": [
    "section = t[SECTION]\n",
    "section = (2 * (section - section.mean(axis=0)[None]) + [[128, 128]]).astype(np.int32)"
   ]
  },
  {
   "cell_type": "code",
   "execution_count": 64,
   "id": "8d36a00d",
   "metadata": {},
   "outputs": [
    {
     "data": {
      "text/plain": [
       "True"
      ]
     },
     "execution_count": 64,
     "metadata": {},
     "output_type": "execute_result"
    }
   ],
   "source": [
    "canvas = np.zeros((256, 256, 3), np.uint8)\n",
    "for i, pt in enumerate(section):\n",
    "    label = SECTION[i]\n",
    "    cv2.putText(canvas, f'{label}', pt, cv2.FONT_HERSHEY_SIMPLEX, 0.4, (255, 255, 255))\n",
    "cv2.imwrite('test.png', canvas)"
   ]
  },
  {
   "cell_type": "code",
   "execution_count": 71,
   "id": "faef4c8f",
   "metadata": {},
   "outputs": [
    {
     "data": {
      "text/plain": [
       "True"
      ]
     },
     "execution_count": 71,
     "metadata": {},
     "output_type": "execute_result"
    }
   ],
   "source": [
    "canvas = np.zeros((256, 256, 3), np.uint8)\n",
    "_ = cv2.polylines(canvas, [t[util.CHIN_IDX]], False, (255, 255, 255), 1)\n",
    "cv2.imwrite('test.png', canvas)"
   ]
  },
  {
   "cell_type": "code",
   "execution_count": 65,
   "id": "a5ddbd50",
   "metadata": {},
   "outputs": [
    {
     "data": {
      "text/plain": [
       "array([[146, 128],\n",
       "       [144, 118],\n",
       "       [ 90, 134],\n",
       "       [120, 118],\n",
       "       [172, 122],\n",
       "       [ 96, 140],\n",
       "       [124, 128],\n",
       "       [108, 132],\n",
       "       [176, 136],\n",
       "       [100, 124]], dtype=int32)"
      ]
     },
     "execution_count": 65,
     "metadata": {},
     "output_type": "execute_result"
    }
   ],
   "source": [
    "SECTIONS"
   ]
  },
  {
   "cell_type": "code",
   "execution_count": 73,
   "id": "17349ed2",
   "metadata": {},
   "outputs": [],
   "source": [
    "import importlib"
   ]
  },
  {
   "cell_type": "code",
   "execution_count": 115,
   "id": "21b36c02",
   "metadata": {},
   "outputs": [
    {
     "data": {
      "text/plain": [
       "<module 'utils.util' from '/home/server25/minyeong_workspace/BFv2v/utils/util.py'>"
      ]
     },
     "execution_count": 115,
     "metadata": {},
     "output_type": "execute_result"
    }
   ],
   "source": [
    "importlib.reload(utils.util)"
   ]
  },
  {
   "cell_type": "code",
   "execution_count": 77,
   "id": "67bbfb37",
   "metadata": {},
   "outputs": [],
   "source": [
    "import utils"
   ]
  },
  {
   "cell_type": "code",
   "execution_count": 102,
   "id": "ec7ffe94",
   "metadata": {},
   "outputs": [],
   "source": [
    "import utils.util as util"
   ]
  },
  {
   "cell_type": "code",
   "execution_count": 103,
   "id": "009787d6",
   "metadata": {},
   "outputs": [
    {
     "data": {
      "text/plain": [
       "<function utils.util.draw_section(sections, shape, section_config=[[384, 385, 386, 387, 388, 390, 263, 362, 398, 466, 373, 374, 249, 380, 381, 382], [160, 33, 161, 163, 133, 7, 173, 144, 145, 246, 153, 154, 155, 157, 158, 159], [181, 84, 17, 314, 405, 321, 375, 291, 409, 270, 269, 267, 0, 37, 39, 40, 185, 61, 146, 91], [178, 87, 14, 317, 402, 318, 324, 308, 415, 310, 311, 312, 13, 82, 81, 80, 191, 78, 95, 88], [336, 285, 295, 282, 283, 276, 300, 293, 334, 296], [70, 46, 53, 52, 65, 55, 107, 66, 105, 63], ([379, 378, 400, 377, 152, 148, 176, 149, 150, 136], False)], groups=[0, 1, 2, 2, 0, 1, 2], split=False)>"
      ]
     },
     "execution_count": 103,
     "metadata": {},
     "output_type": "execute_result"
    }
   ],
   "source": [
    "util.draw_section"
   ]
  },
  {
   "cell_type": "code",
   "execution_count": 104,
   "id": "5d9e8c64",
   "metadata": {},
   "outputs": [],
   "source": [
    "ROI_IDX = util.LEFT_EYE_IDX + util.LEFT_EYEBROW_IDX + util.RIGHT_EYE_IDX + util.RIGHT_EYEBROW_IDX + util.OUT_LIP_IDX + util.IN_LIP_IDX + util.CHIN_IDX "
   ]
  },
  {
   "cell_type": "code",
   "execution_count": 105,
   "id": "f2bbcd19",
   "metadata": {},
   "outputs": [],
   "source": [
    "roi = t[ROI_IDX]"
   ]
  },
  {
   "cell_type": "code",
   "execution_count": 119,
   "id": "7e44fc12",
   "metadata": {},
   "outputs": [],
   "source": [
    "mask = util.draw_section(roi, (256, 256, 3), split=True)"
   ]
  },
  {
   "cell_type": "code",
   "execution_count": 106,
   "id": "21de01e6",
   "metadata": {},
   "outputs": [
    {
     "data": {
      "text/plain": [
       "102"
      ]
     },
     "execution_count": 106,
     "metadata": {},
     "output_type": "execute_result"
    }
   ],
   "source": [
    "len(ROI_IDX)"
   ]
  },
  {
   "cell_type": "code",
   "execution_count": 108,
   "id": "225bc179",
   "metadata": {},
   "outputs": [],
   "source": [
    "section_config=[[384, 385, 386, 387, 388, 390, 263, 362, 398, 466, 373, 374, 249, 380, 381, 382], [160, 33, 161, 163, 133, 7, 173, 144, 145, 246, 153, 154, 155, 157, 158, 159], [181, 84, 17, 314, 405, 321, 375, 291, 409, 270, 269, 267, 0, 37, 39, 40, 185, 61, 146, 91], [178, 87, 14, 317, 402, 318, 324, 308, 415, 310, 311, 312, 13, 82, 81, 80, 191, 78, 95, 88], [336, 285, 295, 282, 283, 276, 300, 293, 334, 296], [70, 46, 53, 52, 65, 55, 107, 66, 105, 63], ([379, 378, 400, 377, 152, 148, 176, 149, 150, 136], False)]"
   ]
  },
  {
   "cell_type": "code",
   "execution_count": 112,
   "id": "e30b1125",
   "metadata": {},
   "outputs": [],
   "source": [
    "_roi = []\n",
    "for v in section_config:\n",
    "    if type(v) == tuple:\n",
    "        v = v[0]\n",
    "    _roi.extend(v)"
   ]
  },
  {
   "cell_type": "code",
   "execution_count": 113,
   "id": "c338d665",
   "metadata": {},
   "outputs": [
    {
     "data": {
      "text/plain": [
       "102"
      ]
     },
     "execution_count": 113,
     "metadata": {},
     "output_type": "execute_result"
    }
   ],
   "source": [
    "len(_roi)"
   ]
  },
  {
   "cell_type": "code",
   "execution_count": 117,
   "id": "0744aba2",
   "metadata": {},
   "outputs": [
    {
     "data": {
      "text/plain": [
       "256"
      ]
     },
     "execution_count": 117,
     "metadata": {},
     "output_type": "execute_result"
    }
   ],
   "source": [
    "len(mask)"
   ]
  },
  {
   "cell_type": "code",
   "execution_count": 121,
   "id": "e4be84d0",
   "metadata": {},
   "outputs": [],
   "source": [
    "for i, mask_section in enumerate(mask):\n",
    "    cv2.imwrite(f'test_section_{i}.png', mask_section)"
   ]
  },
  {
   "cell_type": "code",
   "execution_count": null,
   "id": "8a249c3e",
   "metadata": {},
   "outputs": [],
   "source": []
  }
 ],
 "metadata": {
  "kernelspec": {
   "display_name": "Python 3 (ipykernel)",
   "language": "python",
   "name": "python3"
  },
  "language_info": {
   "codemirror_mode": {
    "name": "ipython",
    "version": 3
   },
   "file_extension": ".py",
   "mimetype": "text/x-python",
   "name": "python",
   "nbconvert_exporter": "python",
   "pygments_lexer": "ipython3",
   "version": "3.7.0"
  }
 },
 "nbformat": 4,
 "nbformat_minor": 5
}
